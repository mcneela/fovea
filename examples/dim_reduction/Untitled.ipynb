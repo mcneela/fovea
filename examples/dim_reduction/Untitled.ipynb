{
 "cells": [
  {
   "cell_type": "code",
   "execution_count": 3,
   "metadata": {
    "collapsed": false
   },
   "outputs": [
    {
     "ename": "SyntaxError",
     "evalue": "invalid syntax (<ipython-input-3-7a51dd33a559>, line 1)",
     "output_type": "error",
     "traceback": [
      "\u001b[1;36m  File \u001b[1;32m\"<ipython-input-3-7a51dd33a559>\"\u001b[1;36m, line \u001b[1;32m1\u001b[0m\n\u001b[1;33m    python3 pca_tester.py\u001b[0m\n\u001b[1;37m                     ^\u001b[0m\n\u001b[1;31mSyntaxError\u001b[0m\u001b[1;31m:\u001b[0m invalid syntax\n"
     ]
    }
   ],
   "source": [
    "python3 pca_tester.py"
   ]
  },
  {
   "cell_type": "code",
   "execution_count": 4,
   "metadata": {
    "collapsed": false
   },
   "outputs": [
    {
     "ename": "NameError",
     "evalue": "name 'pca_tester' is not defined",
     "output_type": "error",
     "traceback": [
      "\u001b[1;31m---------------------------------------------------------------------------\u001b[0m",
      "\u001b[1;31mNameError\u001b[0m                                 Traceback (most recent call last)",
      "\u001b[1;32m<ipython-input-4-77e4fc64493d>\u001b[0m in \u001b[0;36m<module>\u001b[1;34m()\u001b[0m\n\u001b[1;32m----> 1\u001b[1;33m \u001b[0mpca_tester\u001b[0m\u001b[1;33m.\u001b[0m\u001b[0mpy\u001b[0m\u001b[1;33m\u001b[0m\u001b[0m\n\u001b[0m",
      "\u001b[1;31mNameError\u001b[0m: name 'pca_tester' is not defined"
     ]
    }
   ],
   "source": [
    "pca_tester.py"
   ]
  },
  {
   "cell_type": "code",
   "execution_count": null,
   "metadata": {
    "collapsed": true
   },
   "outputs": [],
   "source": [
    "# %load pca_tester.py\n",
    "\"\"\"\n",
    "Executable code for the PCA user story.\n",
    "Run disc() to explore a randomly generated flat disc data. Run hypesphere to explore a high dimensional ball\n",
    "of randomly generated data.\n",
    "\"\"\"\n",
    "\n",
    "import pca_disc\n",
    "from pca_disc import plotter, gui, stretch, ControlSys, rotate_x, rotate_y, rotate_z, translate, noise\n",
    "from fovea import *\n",
    "\n",
    "from PyDSTool.Toolbox import synthetic_data as sd\n",
    "\n",
    "import random\n",
    "import numpy as np\n",
    "import __future__\n",
    "import time\n",
    "\n",
    "DOI = [(-10,10),(-10,10)]\n",
    "\n",
    "def disc():\n",
    "    pts = sd.generate_ball(100, 2, 10)\n",
    "    pts = np.concatenate((pts,np.zeros((100, 1))), axis=1)\n",
    "\n",
    "    trans_am = 12\n",
    "    trans_ax = 1\n",
    "\n",
    "    X = [[],[],[]]\n",
    "    for i in range(3):\n",
    "        X[i] = rotate_z(rotate_y(rotate_x(translate(pts, trans_ax, trans_am),random.uniform(0, 2*np.pi)),random.uniform(0, 2*np.pi)),random.uniform(0, 2*np.pi))\n",
    "        X[i] = noise(X[i], 2, 0.3, 0, 10)\n",
    "\n",
    "    rot_layers = ['rot1', 'rot2', 'rot3']\n",
    "    rot_styles = ['r', 'g', 'b']\n",
    "\n",
    "    pca_disc.setupDisplay(rot_layers, rot_styles, DOI)\n",
    "\n",
    "    gui.addDataPoints([pts[:,0], pts[:,1], pts[:,2]], layer='orig_data', style='y.')\n",
    "\n",
    "    d=2\n",
    "    ctrl_sys = ControlSys(gui.masterWin, X, rot_layers, rot_styles, 2)\n",
    "\n",
    "    return ctrl_sys\n",
    "\n",
    "def hypersphere(dim):\n",
    "    pts = sd.generate_ball(100, dim, 10)\n",
    "\n",
    "    #Create and stretch different hypersphere \"clusters\":\n",
    "    X1 = translate(stretch(stretch(sd.generate_ball(133, dim, 10), 0, 1.4), 1, 1.4), 0, 25)\n",
    "    X2 = translate(sd.generate_ball(110, dim, 10), 1, 20)\n",
    "    X3 = translate(noise(sd.generate_ball(95, dim, 10), 2, 0.6, 0, 2), 2, 15)\n",
    "\n",
    "    X = [X1, X2, X3]\n",
    "\n",
    "    clus_layers = ['clus1', 'clus2', 'clus3']\n",
    "    clus_styles = ['r', 'g', 'b']\n",
    "\n",
    "    pca_disc.setupDisplay(clus_layers, clus_styles, DOI)\n",
    "\n",
    "    proj_vecsHI = pca_disc.ortho_proj_mat(len(X[0][0]), 3)\n",
    "    proj_vecsLO = pca_disc.ortho_proj_mat(len(X[0][0]), 2)\n",
    "\n",
    "    #Plot the entire dataset in blue.\n",
    "    X_all = np.concatenate((X1,X2,X3))\n",
    "    gui.addDataPoints(np.dot(X_all, proj_vecsHI).transpose(), layer='orig_data', style='y.')\n",
    "\n",
    "    d = 2\n",
    "    ctrl_sys = ControlSys(gui.masterWin, X, clus_layers, clus_styles, 2, proj_vecsLO, proj_vecsHI)\n",
    "\n",
    "    return ctrl_sys\n",
    "\n",
    "#ctrl_sys = disc()\n",
    "ctrl_sys = hypersphere(6)\n",
    "\n",
    "time.sleep(180)\n",
    "halt= True\n"
   ]
  },
  {
   "cell_type": "code",
   "execution_count": 6,
   "metadata": {
    "collapsed": false
   },
   "outputs": [
    {
     "ename": "SyntaxError",
     "evalue": "invalid syntax (<ipython-input-6-4cef517d2b0a>, line 1)",
     "output_type": "error",
     "traceback": [
      "\u001b[1;36m  File \u001b[1;32m\"<ipython-input-6-4cef517d2b0a>\"\u001b[1;36m, line \u001b[1;32m1\u001b[0m\n\u001b[1;33m    python pca_tester.py\u001b[0m\n\u001b[1;37m                    ^\u001b[0m\n\u001b[1;31mSyntaxError\u001b[0m\u001b[1;31m:\u001b[0m invalid syntax\n"
     ]
    }
   ],
   "source": [
    "python pca_tester.py"
   ]
  },
  {
   "cell_type": "code",
   "execution_count": 1,
   "metadata": {
    "collapsed": false
   },
   "outputs": [
    {
     "name": "stdout",
     "output_type": "stream",
     "text": [
      "Number of points outside ball that were discarded =  1322\n",
      "Number of points outside ball that were discarded =  1678\n",
      "Number of points outside ball that were discarded =  1124\n",
      "Number of points outside ball that were discarded =  1175\n",
      "3D Axes can be rotated by clicking and dragging.\n",
      "Variance Explained in clus1 with first 2 components:\n",
      "0.484861279452\n",
      "Variance Explained in clus2 with first 2 components:\n",
      "0.40160733678\n",
      "Variance Explained in clus3 with first 2 components:\n",
      "0.411698053866\n",
      "Press left or right arrow keys to view different rotations of Hi-D data and their PC's.\n",
      "Press m to display or hide all layers.\n",
      "Press h to show or hide original data.\n"
     ]
    }
   ],
   "source": [
    "%run pca_tester.py"
   ]
  },
  {
   "cell_type": "code",
   "execution_count": null,
   "metadata": {
    "collapsed": true
   },
   "outputs": [],
   "source": [
    "m"
   ]
  },
  {
   "cell_type": "code",
   "execution_count": 2,
   "metadata": {
    "collapsed": false
   },
   "outputs": [
    {
     "ename": "NameError",
     "evalue": "name 'm' is not defined",
     "output_type": "error",
     "traceback": [
      "\u001b[1;31m---------------------------------------------------------------------------\u001b[0m",
      "\u001b[1;31mNameError\u001b[0m                                 Traceback (most recent call last)",
      "\u001b[1;32m<ipython-input-2-69b64623f86d>\u001b[0m in \u001b[0;36m<module>\u001b[1;34m()\u001b[0m\n\u001b[1;32m----> 1\u001b[1;33m \u001b[0mm\u001b[0m\u001b[1;33m\u001b[0m\u001b[0m\n\u001b[0m",
      "\u001b[1;31mNameError\u001b[0m: name 'm' is not defined"
     ]
    }
   ],
   "source": [
    "m\n"
   ]
  },
  {
   "cell_type": "code",
   "execution_count": null,
   "metadata": {
    "collapsed": true
   },
   "outputs": [],
   "source": []
  }
 ],
 "metadata": {
  "kernelspec": {
   "display_name": "Python 3",
   "language": "python",
   "name": "python3"
  },
  "language_info": {
   "codemirror_mode": {
    "name": "ipython",
    "version": 3
   },
   "file_extension": ".py",
   "mimetype": "text/x-python",
   "name": "python",
   "nbconvert_exporter": "python",
   "pygments_lexer": "ipython3",
   "version": "3.4.3"
  }
 },
 "nbformat": 4,
 "nbformat_minor": 0
}
